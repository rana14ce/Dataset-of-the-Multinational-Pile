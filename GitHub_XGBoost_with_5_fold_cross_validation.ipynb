{
  "nbformat": 4,
  "nbformat_minor": 0,
  "metadata": {
    "colab": {
      "provenance": [],
      "authorship_tag": "ABX9TyMoEjvNAzgKC88vOyPCDq63",
      "include_colab_link": true
    },
    "kernelspec": {
      "name": "python3",
      "display_name": "Python 3"
    },
    "language_info": {
      "name": "python"
    }
  },
  "cells": [
    {
      "cell_type": "markdown",
      "metadata": {
        "id": "view-in-github",
        "colab_type": "text"
      },
      "source": [
        "<a href=\"https://colab.research.google.com/github/rana14ce/Dataset-of-the-Multinational-Pile/blob/v3/GitHub_XGBoost_with_5_fold_cross_validation.ipynb\" target=\"_parent\"><img src=\"https://colab.research.google.com/assets/colab-badge.svg\" alt=\"Open In Colab\"/></a>"
      ]
    },
    {
      "cell_type": "code",
      "source": [
        "# Evaluate the model on the training set\n",
        "train_r2 = r2_score(y_train, y_train_pred)\n",
        "train_rmse = np.sqrt(mean_squared_error(y_train, y_train_pred))\n",
        "\n",
        "# Evaluate the model on the test set\n",
        "test_r2 = r2_score(y_test, y_test_pred)\n",
        "test_rmse = np.sqrt(mean_squared_error(y_test, y_test_pred))\n",
        "\n",
        "print(\"5-Fold CV RMSE: \", cv_rmse)\n",
        "print(\"Mean CV RMSE: \", mean_cv_rmse)\n",
        "print(\"Training R^2: \", train_r2)\n",
        "print(\"Training RMSE: \", train_rmse)\n",
        "print(\"Test R^2: \", test_r2)\n",
        "print(\"Test RMSE: \", test_rmse)\n"
      ],
      "metadata": {
        "colab": {
          "base_uri": "https://localhost:8080/"
        },
        "id": "JmWYauEP2xK2",
        "outputId": "fd23e124-52ce-4e1f-eef6-a56871e1329a"
      },
      "execution_count": null,
      "outputs": [
        {
          "output_type": "stream",
          "name": "stdout",
          "text": [
            "5-Fold CV RMSE:  [ 895.54552993  524.27614477 1004.03763886  846.89340688 1002.63850449]\n",
            "Mean CV RMSE:  854.6782449856652\n",
            "Training R^2:  0.8834880436500692\n",
            "Training RMSE:  389.8424850260029\n",
            "Test R^2:  0.18268139092581626\n",
            "Test RMSE:  1244.8837023683152\n"
          ]
        }
      ]
    },
    {
      "cell_type": "code",
      "source": [
        "pip install pyswarm\n"
      ],
      "metadata": {
        "id": "UaeUNT5ZoT_O",
        "outputId": "41183583-2159-47fa-ec0f-a3d08dab645b",
        "colab": {
          "base_uri": "https://localhost:8080/"
        }
      },
      "execution_count": 2,
      "outputs": [
        {
          "output_type": "stream",
          "name": "stdout",
          "text": [
            "Collecting pyswarm\n",
            "  Downloading pyswarm-0.6.tar.gz (4.3 kB)\n",
            "  Preparing metadata (setup.py) ... \u001b[?25l\u001b[?25hdone\n",
            "Requirement already satisfied: numpy in /usr/local/lib/python3.10/dist-packages (from pyswarm) (1.25.2)\n",
            "Building wheels for collected packages: pyswarm\n",
            "  Building wheel for pyswarm (setup.py) ... \u001b[?25l\u001b[?25hdone\n",
            "  Created wheel for pyswarm: filename=pyswarm-0.6-py3-none-any.whl size=4464 sha256=986843414ef990839f6514f75a1a4df0d86bbfea56192674bbbc5fdc3f180ec1\n",
            "  Stored in directory: /root/.cache/pip/wheels/71/67/40/62fa158f497f942277cbab8199b05cb61c571ab324e67ad0d6\n",
            "Successfully built pyswarm\n",
            "Installing collected packages: pyswarm\n",
            "Successfully installed pyswarm-0.6\n"
          ]
        }
      ]
    },
    {
      "cell_type": "code",
      "source": [
        "import numpy as np\n",
        "import pandas as pd\n",
        "from sklearn.preprocessing import StandardScaler\n",
        "from xgboost import XGBRegressor\n",
        "from sklearn.model_selection import train_test_split, cross_val_score\n",
        "from sklearn.metrics import mean_squared_error, r2_score\n",
        "from pyswarm import pso\n",
        "\n",
        "# Load the dataset\n",
        "url = 'https://raw.githubusercontent.com/rana14ce/Dataset-of-the-Multinational-Pile/main/Dataset%20of%20the%20Multinational%20Pile.csv'\n",
        "data = pd.read_csv(url)\n",
        "\n",
        "# Split the data into features and target\n",
        "X = data.drop('Qm_KN', axis=1)\n",
        "y = data['Qm_KN']\n",
        "\n",
        "# Split the dataset into training and testing sets\n",
        "X_train, X_test, y_train, y_test = train_test_split(X, y, test_size=0.2, random_state=42)\n",
        "\n",
        "# Standardize the features\n",
        "scaler = StandardScaler()\n",
        "X_train_scaled = scaler.fit_transform(X_train)\n",
        "X_test_scaled = scaler.transform(X_test)\n",
        "\n",
        "# Define the objective function for PSO\n",
        "def objective_function(params):\n",
        "    max_depth, gamma, learning_rate, n_estimators = params\n",
        "    model = XGBRegressor(max_depth=int(max_depth), gamma=gamma, learning_rate=learning_rate, n_estimators=int(n_estimators))\n",
        "    cv_scores = cross_val_score(model, X_train_scaled, y_train, cv=5, scoring='neg_mean_squared_error')\n",
        "    mean_rmse = np.mean(np.sqrt(-cv_scores))\n",
        "    return mean_rmse\n",
        "\n",
        "# Define the bounds for the hyperparameters\n",
        "lb = [3, 0, 0.01, 100]  # lower bounds: max_depth, gamma, learning_rate, n_estimators\n",
        "ub = [7, 0.5, 0.2, 300]  # upper bounds: max_depth, gamma, learning_rate, n_estimators\n",
        "\n",
        "# Perform PSO\n",
        "optimal_params, _ = pso(objective_function, lb, ub, swarmsize=20, maxiter=100)\n",
        "print(\"Optimal Parameters: \", optimal_params)\n",
        "\n",
        "# Train the best model with the optimal hyperparameters\n",
        "best_model = XGBRegressor(max_depth=int(optimal_params[0]), gamma=optimal_params[1],\n",
        "                          learning_rate=optimal_params[2], n_estimators=int(optimal_params[3]))\n",
        "best_model.fit(X_train_scaled, y_train)\n",
        "\n",
        "# Perform 5-Fold Cross-Validation with the best model\n",
        "cv_scores = cross_val_score(best_model, X_train_scaled, y_train, cv=5, scoring='neg_mean_squared_error')\n",
        "cv_rmse = np.sqrt(-cv_scores)\n",
        "mean_cv_rmse = np.mean(cv_rmse)\n",
        "\n",
        "# Predict on the training set\n",
        "y_train_pred = best_model.predict(X_train_scaled)\n",
        "\n",
        "# Predict on the test set\n",
        "y_test_pred = best_model.predict(X_test_scaled)\n",
        "\n",
        "# Evaluate the model on the training set\n",
        "train_r2 = r2_score(y_train, y_train_pred)\n",
        "train_rmse = np.sqrt(mean_squared_error(y_train, y_train_pred))\n",
        "\n",
        "# Evaluate the model on the test set\n",
        "test_r2 = r2_score(y_test, y_test_pred)\n",
        "test_rmse = np.sqrt(mean_squared_error(y_test, y_test_pred))\n",
        "\n",
        "print(\"5-Fold CV RMSE: \", cv_rmse)\n",
        "print(\"Mean CV RMSE: \", mean_cv_rmse)\n",
        "print(\"Training R^2: \", train_r2)\n",
        "print(\"Training RMSE: \", train_rmse)\n",
        "print(\"Test R^2: \", test_r2)\n",
        "print(\"Test RMSE: \", test_rmse)\n"
      ],
      "metadata": {
        "id": "PonvQCbFH1fQ",
        "outputId": "8dd58140-7e55-4da1-dd53-5c0ffb143a8e",
        "colab": {
          "base_uri": "https://localhost:8080/"
        }
      },
      "execution_count": 3,
      "outputs": [
        {
          "output_type": "stream",
          "name": "stdout",
          "text": [
            "Stopping search: maximum iterations reached --> 100\n",
            "Optimal Parameters:  [5.68455021e+00 2.92967948e-01 1.00000000e-02 1.84554509e+02]\n",
            "5-Fold CV RMSE:  [ 901.86115894  528.10482607  988.74345697  843.03715682 1004.33829471]\n",
            "Mean CV RMSE:  853.2169787023537\n",
            "Training R^2:  0.8953221227006719\n",
            "Training RMSE:  369.51440474199933\n",
            "Test R^2:  0.18765725340565298\n",
            "Test RMSE:  1241.088470785522\n"
          ]
        }
      ]
    },
    {
      "cell_type": "code",
      "source": [],
      "metadata": {
        "id": "gGsYj3iloOtn"
      },
      "execution_count": null,
      "outputs": []
    }
  ]
}