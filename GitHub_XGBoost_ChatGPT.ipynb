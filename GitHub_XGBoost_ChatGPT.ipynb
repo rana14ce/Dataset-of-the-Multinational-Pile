{
  "nbformat": 4,
  "nbformat_minor": 0,
  "metadata": {
    "colab": {
      "provenance": [],
      "authorship_tag": "ABX9TyMPtx4N2rkNwv7mp/cHwEhA",
      "include_colab_link": true
    },
    "kernelspec": {
      "name": "python3",
      "display_name": "Python 3"
    },
    "language_info": {
      "name": "python"
    }
  },
  "cells": [
    {
      "cell_type": "markdown",
      "metadata": {
        "id": "view-in-github",
        "colab_type": "text"
      },
      "source": [
        "<a href=\"https://colab.research.google.com/github/rana14ce/Dataset-of-the-Multinational-Pile/blob/main/GitHub_XGBoost_ChatGPT.ipynb\" target=\"_parent\"><img src=\"https://colab.research.google.com/assets/colab-badge.svg\" alt=\"Open In Colab\"/></a>"
      ]
    },
    {
      "cell_type": "code",
      "execution_count": null,
      "metadata": {
        "id": "1VQ9Iuy6tM60",
        "outputId": "4d37ca42-7126-477b-e443-15cc5a42ee69",
        "colab": {
          "base_uri": "https://localhost:8080/"
        }
      },
      "outputs": [
        {
          "output_type": "stream",
          "name": "stdout",
          "text": [
            "Requirement already satisfied: xgboost in /usr/local/lib/python3.11/dist-packages (2.1.4)\n",
            "Requirement already satisfied: pyswarm in /usr/local/lib/python3.11/dist-packages (0.6)\n",
            "Requirement already satisfied: numpy in /usr/local/lib/python3.11/dist-packages (from xgboost) (2.0.2)\n",
            "Requirement already satisfied: nvidia-nccl-cu12 in /usr/local/lib/python3.11/dist-packages (from xgboost) (2.21.5)\n",
            "Requirement already satisfied: scipy in /usr/local/lib/python3.11/dist-packages (from xgboost) (1.14.1)\n"
          ]
        }
      ],
      "source": [
        "!pip install xgboost pyswarm"
      ]
    },
    {
      "cell_type": "code",
      "source": [
        "import numpy as np\n",
        "import pandas as pd\n",
        "from xgboost import XGBRegressor\n",
        "from sklearn.model_selection import train_test_split, cross_val_score\n",
        "from sklearn.metrics import r2_score, mean_squared_error\n",
        "from sklearn.preprocessing import StandardScaler"
      ],
      "metadata": {
        "id": "3Sw3owO6MnHq"
      },
      "execution_count": null,
      "outputs": []
    },
    {
      "cell_type": "code",
      "source": [
        "url = 'https://raw.githubusercontent.com/rana14ce/Dataset-of-the-Multinational-Pile/main/Dataset%20of%20the%20Multinational%20Pile.csv'\n",
        "data = pd.read_csv(url)\n",
        "\n",
        "df = pd.DataFrame(data)\n",
        "X = df.drop('Qm_KN', axis=1)\n",
        "y = df['Qm_KN']\n",
        "\n"
      ],
      "metadata": {
        "id": "s7_7vF2YjFfc"
      },
      "execution_count": null,
      "outputs": []
    },
    {
      "cell_type": "code",
      "source": [
        "# Split data into train (80%) and test (20%) sets\n",
        "X_train, X_test, y_train, y_test = train_test_split(X, y, test_size=0.2, random_state=42)"
      ],
      "metadata": {
        "id": "oDR67QkAjLWl"
      },
      "execution_count": null,
      "outputs": []
    },
    {
      "cell_type": "code",
      "source": [
        "# Feature scaling\n",
        "scaler = StandardScaler()\n",
        "X_train_scaled = scaler.fit_transform(X_train)\n",
        "X_test_scaled = scaler.transform(X_test)"
      ],
      "metadata": {
        "id": "DW4x5drtMrI6"
      },
      "execution_count": null,
      "outputs": []
    },
    {
      "cell_type": "code",
      "source": [
        "# Model with regularization\n",
        "xgb_model = XGBRegressor(\n",
        "    n_estimators=100,\n",
        "    max_depth=3,            # Simpler trees\n",
        "    gamma=0.5,              # More conservative\n",
        "    learning_rate=0.05,     # Slower learning\n",
        "    subsample=0.8,\n",
        "    colsample_bytree=0.8,   # Column subsampling\n",
        "    reg_alpha=0.1,          # L1 regularization\n",
        "    reg_lambda=1.0,         # L2 regularization\n",
        "    random_state=42\n",
        ")\n",
        "\n",
        "# Train and evaluate\n",
        "xgb_model.fit(X_train_scaled, y_train)\n",
        "y_train_pred = xgb_model.predict(X_train_scaled)\n",
        "y_test_pred = xgb_model.predict(X_test_scaled)\n",
        "\n",
        "# Metrics\n",
        "def calculate_metrics(y_true, y_pred):\n",
        "    r2 = r2_score(y_true, y_pred)\n",
        "    rmse = np.sqrt(mean_squared_error(y_true, y_pred))\n",
        "    vaf = (1 - np.var(y_true - y_pred) / np.var(y_true)) * 100\n",
        "    return r2, rmse, vaf\n",
        "\n",
        "r2_train, rmse_train, vaf_train = calculate_metrics(y_train, y_train_pred)\n",
        "r2_test, rmse_test, vaf_test = calculate_metrics(y_test, y_test_pred)\n",
        "\n",
        "print(f\"Training R²: {r2_train:.4f}, RMSE: {rmse_train:.4f}, VAF: {vaf_train:.4f}\")\n",
        "print(f\"Testing R²: {r2_test:.4f}, RMSE: {rmse_test:.4f}, VAF: {vaf_test:.4f}\")\n",
        "\n",
        "# Cross-validation\n",
        "scores = cross_val_score(xgb_model, X, y, cv=5, scoring='r2')\n",
        "print(\"Cross-validated R²:\", np.mean(scores))"
      ],
      "metadata": {
        "id": "MvQ-K5SwMvDC",
        "outputId": "9863e7ef-5391-4b52-c19b-6ced14a95e43",
        "colab": {
          "base_uri": "https://localhost:8080/"
        }
      },
      "execution_count": null,
      "outputs": [
        {
          "output_type": "stream",
          "name": "stdout",
          "text": [
            "Training R²: 0.9502, RMSE: 254.7900, VAF: 95.0288\n",
            "Testing R²: 0.5859, RMSE: 886.1110, VAF: 59.0417\n",
            "Cross-validated R²: 0.11451630592346192\n"
          ]
        }
      ]
    },
    {
      "cell_type": "code",
      "source": [
        "import matplotlib.pyplot as plt\n",
        "\n",
        "# Plot feature importance\n",
        "plt.figure(figsize=(10, 6))\n",
        "plt.barh(X.columns, xgb_model.feature_importances_)\n",
        "plt.xlabel('Importance Score')\n",
        "plt.title('Feature Importance (XGBoost)')\n",
        "plt.show()"
      ],
      "metadata": {
        "id": "iOZ1g3viewm3",
        "outputId": "67ba84b4-de4b-4a5e-d8d2-a0e765981f64",
        "colab": {
          "base_uri": "https://localhost:8080/",
          "height": 564
        }
      },
      "execution_count": null,
      "outputs": [
        {
          "output_type": "display_data",
          "data": {
            "text/plain": [
              "<Figure size 1000x600 with 1 Axes>"
            ],
            "image/png": "[encoded data removed]"
          },
          "metadata": {}
        }
      ]
    },
    {
      "cell_type": "code",
      "source": [],
      "metadata": {
        "id": "Aku6maxijyJd"
      },
      "execution_count": null,
      "outputs": []
    }
  ]
}