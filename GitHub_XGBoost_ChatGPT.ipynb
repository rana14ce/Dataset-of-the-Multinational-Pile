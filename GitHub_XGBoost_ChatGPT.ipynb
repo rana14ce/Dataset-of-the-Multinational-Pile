{
  "nbformat": 4,
  "nbformat_minor": 0,
  "metadata": {
    "colab": {
      "provenance": [],
      "authorship_tag": "ABX9TyNwiPqev7i0Sc7AxIzpfPQf",
      "include_colab_link": true
    },
    "kernelspec": {
      "name": "python3",
      "display_name": "Python 3"
    },
    "language_info": {
      "name": "python"
    }
  },
  "cells": [
    {
      "cell_type": "markdown",
      "metadata": {
        "id": "view-in-github",
        "colab_type": "text"
      },
      "source": [
        "<a href=\"https://colab.research.google.com/github/rana14ce/Dataset-of-the-Multinational-Pile/blob/main/GitHub_XGBoost_ChatGPT.ipynb\" target=\"_parent\"><img src=\"https://colab.research.google.com/assets/colab-badge.svg\" alt=\"Open In Colab\"/></a>"
      ]
    },
    {
      "cell_type": "code",
      "execution_count": 63,
      "metadata": {
        "id": "1VQ9Iuy6tM60",
        "colab": {
          "base_uri": "https://localhost:8080/"
        },
        "outputId": "2a1cb979-09f0-4920-9aaf-7739256c4f73"
      },
      "outputs": [
        {
          "output_type": "stream",
          "name": "stdout",
          "text": [
            "Requirement already satisfied: xgboost in /usr/local/lib/python3.11/dist-packages (2.1.4)\n",
            "Requirement already satisfied: numpy in /usr/local/lib/python3.11/dist-packages (from xgboost) (2.0.2)\n",
            "Requirement already satisfied: nvidia-nccl-cu12 in /usr/local/lib/python3.11/dist-packages (from xgboost) (2.21.5)\n",
            "Requirement already satisfied: scipy in /usr/local/lib/python3.11/dist-packages (from xgboost) (1.14.1)\n",
            "Requirement already satisfied: pyswarm in /usr/local/lib/python3.11/dist-packages (0.6)\n",
            "Requirement already satisfied: numpy in /usr/local/lib/python3.11/dist-packages (from pyswarm) (2.0.2)\n"
          ]
        }
      ],
      "source": [
        "# Install necessary packages\n",
        "!pip install xgboost\n",
        "!pip install pyswarm"
      ]
    },
    {
      "cell_type": "code",
      "source": [
        "# Import libraries\n",
        "import numpy as np\n",
        "import pandas as pd\n",
        "import xgboost as xgb\n",
        "from sklearn.model_selection import train_test_split, cross_val_score\n",
        "from sklearn.preprocessing import MinMaxScaler\n",
        "from sklearn.metrics import r2_score, mean_squared_error\n",
        "from pyswarm import pso"
      ],
      "metadata": {
        "id": "3Sw3owO6MnHq"
      },
      "execution_count": 64,
      "outputs": []
    },
    {
      "cell_type": "code",
      "source": [
        "url = 'https://raw.githubusercontent.com/rana14ce/Dataset-of-the-Multinational-Pile/main/Dataset%20of%20the%20Multinational%20Pile.csv'\n",
        "data = pd.read_csv(url)\n",
        "\n",
        "df = pd.DataFrame(data)\n",
        "X = df.drop('Qm_KN', axis=1)\n",
        "y = df['Qm_KN']\n",
        "\n",
        "# Normalize input features\n",
        "scaler = MinMaxScaler()\n",
        "X_scaled = scaler.fit_transform(X)\n"
      ],
      "metadata": {
        "id": "s7_7vF2YjFfc"
      },
      "execution_count": 65,
      "outputs": []
    },
    {
      "cell_type": "code",
      "source": [
        "# Train-Test Split (80-20 split, random state fixed for reproducibility)\n",
        "X_train, X_test, y_train, y_test = train_test_split(X_scaled, y, test_size=0.2, random_state=42)\n"
      ],
      "metadata": {
        "id": "oDR67QkAjLWl"
      },
      "execution_count": 66,
      "outputs": []
    },
    {
      "cell_type": "code",
      "source": [
        "# Define the PSO objective function for XGB\n",
        "def pso_xgb(params):\n",
        "    max_depth = int(params[0])\n",
        "    gamma = params[1]\n",
        "\n",
        "    model = xgb.XGBRegressor(\n",
        "        objective='reg:squarederror',\n",
        "        max_depth=max_depth,\n",
        "        gamma=gamma,\n",
        "        learning_rate=0.1,\n",
        "        n_estimators=100,\n",
        "        random_state=42\n",
        "    )\n",
        "\n",
        "    scores = cross_val_score(model, X_train, y_train, cv=5, scoring='neg_root_mean_squared_error')\n",
        "    return -scores.mean()  # Minimize RMSE\n",
        "\n",
        "# PSO bounds for max_depth and gamma\n",
        "lb = [3, 0.0]     # Lower bounds\n",
        "ub = [10, 1.0]    # Upper bounds\n",
        "\n",
        "# Perform PSO\n",
        "best_params, _ = pso(pso_xgb, lb, ub, swarmsize=20, maxiter=30)\n",
        "\n",
        "# Extract best parameters\n",
        "best_max_depth = int(best_params[0])\n",
        "best_gamma = best_params[1]\n",
        "\n",
        "print(f\"Best max_depth: {best_max_depth}, Best gamma: {best_gamma}\")"
      ],
      "metadata": {
        "colab": {
          "base_uri": "https://localhost:8080/"
        },
        "id": "DW4x5drtMrI6",
        "outputId": "ca247262-a879-4d5e-b2fb-e11f442f4ce6"
      },
      "execution_count": 67,
      "outputs": [
        {
          "output_type": "stream",
          "name": "stdout",
          "text": [
            "Stopping search: maximum iterations reached --> 30\n",
            "Best max_depth: 7, Best gamma: 0.7356625570874313\n"
          ]
        }
      ]
    },
    {
      "cell_type": "code",
      "source": [
        "# Train XGB model with best parameters\n",
        "final_model = xgb.XGBRegressor(\n",
        "    objective='reg:squarederror',\n",
        "    max_depth=best_max_depth,\n",
        "    gamma=best_gamma,\n",
        "    learning_rate=0.1,\n",
        "    n_estimators=100,\n",
        "    random_state=42\n",
        ")\n",
        "\n",
        "final_model.fit(X_train, y_train)\n",
        "\n",
        "# Evaluate on the test set\n",
        "y_pred = final_model.predict(X_test)\n",
        "\n",
        "r2 = r2_score(y_test, y_pred)\n",
        "rmse = np.sqrt(mean_squared_error(y_test, y_pred))\n",
        "\n",
        "print(f\"Test R²: {r2:.4f}\")\n",
        "print(f\"Test RMSE: {rmse:.4f}\")"
      ],
      "metadata": {
        "colab": {
          "base_uri": "https://localhost:8080/"
        },
        "id": "Aku6maxijyJd",
        "outputId": "88e15934-f88c-474e-da03-e54e348502d0"
      },
      "execution_count": 68,
      "outputs": [
        {
          "output_type": "stream",
          "name": "stdout",
          "text": [
            "Test R²: 0.3711\n",
            "Test RMSE: 1091.9985\n"
          ]
        }
      ]
    }
  ]
}