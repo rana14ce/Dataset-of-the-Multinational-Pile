{
  "nbformat": 4,
  "nbformat_minor": 0,
  "metadata": {
    "colab": {
      "provenance": [],
      "authorship_tag": "ABX9TyO4LNR3rJqChvzyKoBM0nOx",
      "include_colab_link": true
    },
    "kernelspec": {
      "name": "python3",
      "display_name": "Python 3"
    },
    "language_info": {
      "name": "python"
    }
  },
  "cells": [
    {
      "cell_type": "markdown",
      "metadata": {
        "id": "view-in-github",
        "colab_type": "text"
      },
      "source": [
        "<a href=\"https://colab.research.google.com/github/rana14ce/Dataset-of-the-Multinational-Pile/blob/main/GitHub_XGBoost_ChatGPT.ipynb\" target=\"_parent\"><img src=\"https://colab.research.google.com/assets/colab-badge.svg\" alt=\"Open In Colab\"/></a>"
      ]
    },
    {
      "cell_type": "code",
      "execution_count": 2,
      "metadata": {
        "id": "1VQ9Iuy6tM60",
        "colab": {
          "base_uri": "https://localhost:8080/"
        },
        "outputId": "6ff83465-8bde-4666-f075-6bec7765be1d"
      },
      "outputs": [
        {
          "output_type": "stream",
          "name": "stdout",
          "text": [
            "Requirement already satisfied: xgboost in /usr/local/lib/python3.11/dist-packages (2.1.4)\n",
            "Requirement already satisfied: numpy in /usr/local/lib/python3.11/dist-packages (from xgboost) (2.0.2)\n",
            "Requirement already satisfied: nvidia-nccl-cu12 in /usr/local/lib/python3.11/dist-packages (from xgboost) (2.21.5)\n",
            "Requirement already satisfied: scipy in /usr/local/lib/python3.11/dist-packages (from xgboost) (1.14.1)\n",
            "Collecting pyswarm\n",
            "  Downloading pyswarm-0.6.tar.gz (4.3 kB)\n",
            "  Preparing metadata (setup.py) ... \u001b[?25l\u001b[?25hdone\n",
            "Requirement already satisfied: numpy in /usr/local/lib/python3.11/dist-packages (from pyswarm) (2.0.2)\n",
            "Building wheels for collected packages: pyswarm\n",
            "  Building wheel for pyswarm (setup.py) ... \u001b[?25l\u001b[?25hdone\n",
            "  Created wheel for pyswarm: filename=pyswarm-0.6-py3-none-any.whl size=4463 sha256=9e6486cc897a674ebf5f42fb117535b113c9e17141e814603082bf31e8e5162c\n",
            "  Stored in directory: /root/.cache/pip/wheels/bb/4f/ec/8970b83323e16aa95034da175454843947376614d6d5e9627f\n",
            "Successfully built pyswarm\n",
            "Installing collected packages: pyswarm\n",
            "Successfully installed pyswarm-0.6\n"
          ]
        }
      ],
      "source": [
        "# Install necessary packages\n",
        "!pip install xgboost\n",
        "!pip install pyswarm"
      ]
    },
    {
      "cell_type": "code",
      "source": [
        "# Import libraries\n",
        "import numpy as np\n",
        "import pandas as pd\n",
        "import xgboost as xgb\n",
        "from sklearn.model_selection import train_test_split, cross_val_score\n",
        "from sklearn.preprocessing import MinMaxScaler\n",
        "from sklearn.metrics import r2_score, mean_squared_error\n",
        "from pyswarm import pso"
      ],
      "metadata": {
        "id": "3Sw3owO6MnHq"
      },
      "execution_count": 3,
      "outputs": []
    },
    {
      "cell_type": "code",
      "source": [
        "url = 'https://raw.githubusercontent.com/rana14ce/Dataset-of-the-Multinational-Pile/main/Dataset%20of%20the%20Multinational%20Pile.csv'\n",
        "data = pd.read_csv(url)\n",
        "\n",
        "df = pd.DataFrame(data)\n",
        "X = df.drop('Qm_KN', axis=1)\n",
        "y = df['Qm_KN']\n",
        "\n",
        "# Normalize input features\n",
        "scaler = MinMaxScaler()\n",
        "X_scaled = scaler.fit_transform(X)\n"
      ],
      "metadata": {
        "id": "s7_7vF2YjFfc"
      },
      "execution_count": 4,
      "outputs": []
    },
    {
      "cell_type": "code",
      "source": [
        "# Train-Test Split (80-20 split, random state fixed for reproducibility)\n",
        "X_train, X_test, y_train, y_test = train_test_split(X_scaled, y, test_size=0.2, random_state=42)\n"
      ],
      "metadata": {
        "id": "oDR67QkAjLWl"
      },
      "execution_count": 5,
      "outputs": []
    },
    {
      "cell_type": "code",
      "source": [
        "# Define the PSO objective function for XGB\n",
        "def pso_xgb(params):\n",
        "    max_depth = int(params[0])\n",
        "    gamma = params[1]\n",
        "\n",
        "    model = xgb.XGBRegressor(\n",
        "        objective='reg:squarederror',\n",
        "        max_depth=max_depth,\n",
        "        gamma=gamma,\n",
        "        learning_rate=0.1,\n",
        "        n_estimators=100,\n",
        "        random_state=42\n",
        "    )\n",
        "\n",
        "    scores = cross_val_score(model, X_train, y_train, cv=5, scoring='neg_root_mean_squared_error')\n",
        "    return -scores.mean()  # Minimize RMSE\n",
        "\n",
        "# PSO bounds for max_depth and gamma\n",
        "lb = [3, 0.0]     # Lower bounds\n",
        "ub = [10, 1.0]    # Upper bounds\n",
        "\n",
        "# Perform PSO\n",
        "best_params, _ = pso(pso_xgb, lb, ub, swarmsize=20, maxiter=30)\n",
        "\n",
        "# Extract best parameters\n",
        "best_max_depth = int(best_params[0])\n",
        "best_gamma = best_params[1]\n",
        "\n",
        "print(f\"Best max_depth: {best_max_depth}, Best gamma: {best_gamma}\")"
      ],
      "metadata": {
        "colab": {
          "base_uri": "https://localhost:8080/"
        },
        "id": "DW4x5drtMrI6",
        "outputId": "daefb7c4-65d8-4322-9154-fe337a368673"
      },
      "execution_count": 6,
      "outputs": [
        {
          "output_type": "stream",
          "name": "stdout",
          "text": [
            "Stopping search: maximum iterations reached --> 30\n",
            "Best max_depth: 7, Best gamma: 0.7337608339913682\n"
          ]
        }
      ]
    },
    {
      "cell_type": "code",
      "source": [
        "# Train XGB model with best parameters\n",
        "final_model = xgb.XGBRegressor(\n",
        "    objective='reg:squarederror',\n",
        "    max_depth=best_max_depth,\n",
        "    gamma=best_gamma,\n",
        "    learning_rate=0.1,\n",
        "    n_estimators=100,\n",
        "    random_state=42\n",
        ")\n",
        "\n",
        "final_model.fit(X_train, y_train)\n",
        "\n",
        "# Evaluate on the test set\n",
        "y_pred = final_model.predict(X_test)\n",
        "\n",
        "r2 = r2_score(y_test, y_pred)\n",
        "rmse = np.sqrt(mean_squared_error(y_test, y_pred))\n",
        "\n",
        "print(f\"Test R²: {r2:.4f}\")\n",
        "print(f\"Test RMSE: {rmse:.4f}\")\n",
        "\n",
        "y_train_pred = final_model.predict(X_train)\n",
        "y_test_pred = final_model.predict(X_test)\n",
        "\n",
        "# Metrics\n",
        "def calculate_metrics(y_true, y_pred):\n",
        "    r2 = r2_score(y_true, y_pred)\n",
        "    rmse = np.sqrt(mean_squared_error(y_true, y_pred))\n",
        "    vaf = (1 - np.var(y_true - y_pred) / np.var(y_true)) * 100\n",
        "    return r2, rmse, vaf\n",
        "\n",
        "r2_train, rmse_train, vaf_train = calculate_metrics(y_train, y_train_pred)\n",
        "r2_test, rmse_test, vaf_test = calculate_metrics(y_test, y_test_pred)\n",
        "\n",
        "print(f\"Training R²: {r2_train:.4f}, RMSE: {rmse_train:.4f}, VAF: {vaf_train:.4f}\")\n",
        "print(f\"Testing R²: {r2_test:.4f}, RMSE: {rmse_test:.4f}, VAF: {vaf_test:.4f}\")"
      ],
      "metadata": {
        "colab": {
          "base_uri": "https://localhost:8080/"
        },
        "id": "Aku6maxijyJd",
        "outputId": "4f90edaf-79df-4194-fae9-fc8b460af8b6"
      },
      "execution_count": 7,
      "outputs": [
        {
          "output_type": "stream",
          "name": "stdout",
          "text": [
            "Test R²: 0.3711\n",
            "Test RMSE: 1091.9985\n",
            "Training R²: 0.9999, RMSE: 10.5668, VAF: 99.9915\n",
            "Testing R²: 0.3711, RMSE: 1091.9985, VAF: 39.4594\n"
          ]
        }
      ]
    }
  ]
}